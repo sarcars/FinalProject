{
 "cells": [
  {
   "cell_type": "code",
   "execution_count": 2,
   "id": "bb46630c",
   "metadata": {},
   "outputs": [],
   "source": [
    "# importing packages\n",
    "import psycopg2\n"
   ]
  },
  {
   "cell_type": "code",
   "execution_count": 7,
   "id": "052603c3",
   "metadata": {},
   "outputs": [],
   "source": [
    "# forming connection\n",
    "conn = psycopg2.connect(\n",
    "    database=\"postgres\",\n",
    "  user='postgres',\n",
    "  password='Finalprjpwd1',\n",
    "    host='database-1.cuofcwy9cofg.us-east-2.rds.amazonaws.com', port='5432'\n",
    ")"
   ]
  },
  {
   "cell_type": "code",
   "execution_count": 9,
   "id": "e82c15b3",
   "metadata": {},
   "outputs": [],
   "source": [
    "conn.autocommit = True\n",
    " \n",
    "# creating a cursor\n",
    "cursor = conn.cursor()"
   ]
  },
  {
   "cell_type": "code",
   "execution_count": 18,
   "id": "5f5de109",
   "metadata": {},
   "outputs": [],
   "source": [
    "# view table names\n",
    "sqlviewtables = '''SELECT *\n",
    "FROM pg_catalog.pg_tables\n",
    "WHERE schemaname != 'pg_catalog' AND \n",
    "    schemaname != 'information_schema';'''"
   ]
  },
  {
   "cell_type": "code",
   "execution_count": 22,
   "id": "0b284e60",
   "metadata": {},
   "outputs": [],
   "source": [
    "#Execute view table sql statement\n",
    "cursor.execute(sqlviewtables)\n",
    "\n"
   ]
  },
  {
   "cell_type": "code",
   "execution_count": 23,
   "id": "aa86d9f0",
   "metadata": {},
   "outputs": [
    {
     "name": "stdout",
     "output_type": "stream",
     "text": [
      "('public', 'colleges_main', 'postgres', None, True, False, True, False)\n",
      "('public', 'school_states', 'postgres', None, False, False, True, False)\n",
      "('public', 'clusters', 'postgres', None, False, False, True, False)\n",
      "('public', 'cleaned_cu_w_latlong', 'postgres', None, True, False, True, False)\n",
      "('public', 'combined_data_final', 'postgres', None, False, False, False, False)\n",
      "('public', 'colleges_ranked', 'postgres', None, True, False, False, False)\n"
     ]
    }
   ],
   "source": [
    "for i in cursor.fetchall():\n",
    "    print(i)"
   ]
  },
  {
   "cell_type": "code",
   "execution_count": null,
   "id": "870684bb",
   "metadata": {},
   "outputs": [],
   "source": []
  }
 ],
 "metadata": {
  "kernelspec": {
   "display_name": "mlenv",
   "language": "python",
   "name": "mlenv"
  },
  "language_info": {
   "codemirror_mode": {
    "name": "ipython",
    "version": 3
   },
   "file_extension": ".py",
   "mimetype": "text/x-python",
   "name": "python",
   "nbconvert_exporter": "python",
   "pygments_lexer": "ipython3",
   "version": "3.7.11"
  }
 },
 "nbformat": 4,
 "nbformat_minor": 5
}
